{
 "cells": [
  {
   "cell_type": "code",
   "execution_count": 13,
   "outputs": [],
   "source": [
    "import os\n",
    "import pandas as pd\n",
    "import numpy as np"
   ],
   "metadata": {
    "collapsed": false,
    "pycharm": {
     "name": "#%%\n"
    }
   }
  },
  {
   "cell_type": "code",
   "execution_count": 14,
   "outputs": [
    {
     "name": "stdout",
     "output_type": "stream",
     "text": [
      "..\\data\\Pojazdy wg wojewodztw w 2014 r._7282\\Pojazdywgwojewodztw20141.xlsx\n",
      "..\\data\\Pojazdy wg wojewodztw w 2015 r._2393\\Pojazdywgwojewodztw20151.xlsx\n",
      "..\\data\\Pojazdy wg wojewodztw w 2016 r._7427\\Pojazdywgwojewodztw20161.xlsx\n",
      "..\\data\\Pojazdy wg wojewodztw w 2017 r._7272\\Pojazdywgwojewodztw20171.xlsx\n",
      "..\\data\\Pojazdy wg wojewodztw w 2018 r._16845\\Pojazdy_wg_wojew%C3%B3dztw_2018.xlsx\n",
      "..\\data\\Pojazdy wg wojewodztw w 2019 r._29466\\Pojazdy_wg_województw_2019.xlsx\n",
      "..\\data\\Pojazdy wg wojewodztw w 2020 r._29470\\Pojazdy_wg_województw_2020.xlsx\n",
      "..\\data\\Pojazdy wg wojewodztw w 2021 r._36007\\Pojazdy_wg_województw_2021.xlsx\n",
      "..\\data\\Pojazdy zarejestrowane w roku 2022 wg wojewodztw_43031\\Pojazdy_wg_województw_2022.xlsx\n"
     ]
    }
   ],
   "source": [
    "xlsx_paths = []\n",
    "for path, subdirs, files in os.walk('..\\data'):\n",
    "    for name in files:\n",
    "        if name.endswith('.xlsx'):\n",
    "            xlsx_path = os.path.join(path, name)\n",
    "            print(xlsx_path)\n",
    "            xlsx_paths.append(xlsx_path)"
   ],
   "metadata": {
    "collapsed": false,
    "pycharm": {
     "name": "#%%\n"
    }
   }
  },
  {
   "cell_type": "code",
   "execution_count": 15,
   "outputs": [],
   "source": [
    "import re\n",
    "def get_year_from_path(file_path: str):\n",
    "    result = re.search(r\" (\\d{4}) \", file_path)\n",
    "    return result.group(1)"
   ],
   "metadata": {
    "collapsed": false,
    "pycharm": {
     "name": "#%%\n"
    }
   }
  },
  {
   "cell_type": "code",
   "execution_count": 16,
   "outputs": [
    {
     "name": "stdout",
     "output_type": "stream",
     "text": [
      "2014\n",
      "2015\n",
      "2016\n",
      "2017\n",
      "2018\n",
      "2019\n",
      "2020\n",
      "2021\n",
      "2022\n"
     ]
    }
   ],
   "source": [
    "for path in xlsx_paths:\n",
    "    print(get_year_from_path(path))"
   ],
   "metadata": {
    "collapsed": false,
    "pycharm": {
     "name": "#%%\n"
    }
   }
  },
  {
   "cell_type": "code",
   "execution_count": 17,
   "outputs": [],
   "source": [
    "def parse_xlsx(xlsx_path: str):\n",
    "    df = pd.ExcelFile(xlsx_path).parse()\n",
    "    df.columns= df.columns.str.lower()\n",
    "    df['województwo'] = df['województwo'].str.lower()\n",
    "    df = df.drop(columns=['teryt'], errors='ignore')\n",
    "    df['year'] = get_year_from_path(xlsx_path)\n",
    "    df = df.replace(np.nan,None,regex = True)\n",
    "    new_column_names = ['voivodeship'] + list(range(1,13)) + ['year']\n",
    "    df.columns = new_column_names\n",
    "    df = df.melt(id_vars =['voivodeship', 'year'], value_vars =list(range(1,13)),\n",
    "            var_name ='month', value_name ='vehicles')\n",
    "\n",
    "    return df"
   ],
   "metadata": {
    "collapsed": false,
    "pycharm": {
     "name": "#%%\n"
    }
   }
  },
  {
   "cell_type": "code",
   "execution_count": 18,
   "outputs": [],
   "source": [
    "df_list = []\n",
    "for xlsx_path in xlsx_paths:\n",
    "    df_list.append(parse_xlsx(xlsx_path))"
   ],
   "metadata": {
    "collapsed": false,
    "pycharm": {
     "name": "#%%\n"
    }
   }
  },
  {
   "cell_type": "code",
   "execution_count": 19,
   "outputs": [],
   "source": [
    "full_df = pd.concat(df_list)"
   ],
   "metadata": {
    "collapsed": false,
    "pycharm": {
     "name": "#%%\n"
    }
   }
  },
  {
   "cell_type": "code",
   "execution_count": 20,
   "outputs": [],
   "source": [
    "full_df['date'] = full_df['month'].astype(str).str.zfill(2) + \"-\" + full_df['year'].astype(str)"
   ],
   "metadata": {
    "collapsed": false,
    "pycharm": {
     "name": "#%%\n"
    }
   }
  },
  {
   "cell_type": "code",
   "execution_count": 21,
   "outputs": [],
   "source": [
    "full_df.voivodeship = full_df.voivodeship.apply(lambda x: 'warmińsko-mazurskie' if 'warmińskie-mazurskie' in x else x)"
   ],
   "metadata": {
    "collapsed": false,
    "pycharm": {
     "name": "#%%\n"
    }
   }
  },
  {
   "cell_type": "code",
   "execution_count": 21,
   "outputs": [],
   "source": [],
   "metadata": {
    "collapsed": false,
    "pycharm": {
     "name": "#%%\n"
    }
   }
  },
  {
   "cell_type": "code",
   "execution_count": 22,
   "outputs": [
    {
     "data": {
      "text/plain": "             voivodeship  year month vehicles     date\n0           dolnośląskie  2014     1     7921  01-2014\n1     kujawsko-pomorskie  2014     1     5153  01-2014\n2              lubelskie  2014     1     4864  01-2014\n3               lubuskie  2014     1     3217  01-2014\n4                łódzkie  2014     1     5798  01-2014\n..                   ...   ...   ...      ...      ...\n187              śląskie  2022    12     None  12-2022\n188       świętokrzyskie  2022    12     None  12-2022\n189  warmińsko-mazurskie  2022    12     None  12-2022\n190        wielkopolskie  2022    12     None  12-2022\n191   zachodniopomorskie  2022    12     None  12-2022\n\n[1728 rows x 5 columns]",
      "text/html": "<div>\n<style scoped>\n    .dataframe tbody tr th:only-of-type {\n        vertical-align: middle;\n    }\n\n    .dataframe tbody tr th {\n        vertical-align: top;\n    }\n\n    .dataframe thead th {\n        text-align: right;\n    }\n</style>\n<table border=\"1\" class=\"dataframe\">\n  <thead>\n    <tr style=\"text-align: right;\">\n      <th></th>\n      <th>voivodeship</th>\n      <th>year</th>\n      <th>month</th>\n      <th>vehicles</th>\n      <th>date</th>\n    </tr>\n  </thead>\n  <tbody>\n    <tr>\n      <th>0</th>\n      <td>dolnośląskie</td>\n      <td>2014</td>\n      <td>1</td>\n      <td>7921</td>\n      <td>01-2014</td>\n    </tr>\n    <tr>\n      <th>1</th>\n      <td>kujawsko-pomorskie</td>\n      <td>2014</td>\n      <td>1</td>\n      <td>5153</td>\n      <td>01-2014</td>\n    </tr>\n    <tr>\n      <th>2</th>\n      <td>lubelskie</td>\n      <td>2014</td>\n      <td>1</td>\n      <td>4864</td>\n      <td>01-2014</td>\n    </tr>\n    <tr>\n      <th>3</th>\n      <td>lubuskie</td>\n      <td>2014</td>\n      <td>1</td>\n      <td>3217</td>\n      <td>01-2014</td>\n    </tr>\n    <tr>\n      <th>4</th>\n      <td>łódzkie</td>\n      <td>2014</td>\n      <td>1</td>\n      <td>5798</td>\n      <td>01-2014</td>\n    </tr>\n    <tr>\n      <th>...</th>\n      <td>...</td>\n      <td>...</td>\n      <td>...</td>\n      <td>...</td>\n      <td>...</td>\n    </tr>\n    <tr>\n      <th>187</th>\n      <td>śląskie</td>\n      <td>2022</td>\n      <td>12</td>\n      <td>None</td>\n      <td>12-2022</td>\n    </tr>\n    <tr>\n      <th>188</th>\n      <td>świętokrzyskie</td>\n      <td>2022</td>\n      <td>12</td>\n      <td>None</td>\n      <td>12-2022</td>\n    </tr>\n    <tr>\n      <th>189</th>\n      <td>warmińsko-mazurskie</td>\n      <td>2022</td>\n      <td>12</td>\n      <td>None</td>\n      <td>12-2022</td>\n    </tr>\n    <tr>\n      <th>190</th>\n      <td>wielkopolskie</td>\n      <td>2022</td>\n      <td>12</td>\n      <td>None</td>\n      <td>12-2022</td>\n    </tr>\n    <tr>\n      <th>191</th>\n      <td>zachodniopomorskie</td>\n      <td>2022</td>\n      <td>12</td>\n      <td>None</td>\n      <td>12-2022</td>\n    </tr>\n  </tbody>\n</table>\n<p>1728 rows × 5 columns</p>\n</div>"
     },
     "execution_count": 22,
     "metadata": {},
     "output_type": "execute_result"
    }
   ],
   "source": [
    "full_df"
   ],
   "metadata": {
    "collapsed": false,
    "pycharm": {
     "name": "#%%\n"
    }
   }
  },
  {
   "cell_type": "code",
   "execution_count": 23,
   "outputs": [],
   "source": [
    "full_df.to_csv('../output/out.csv')"
   ],
   "metadata": {
    "collapsed": false,
    "pycharm": {
     "name": "#%%\n"
    }
   }
  }
 ],
 "metadata": {
  "kernelspec": {
   "display_name": "Python 3",
   "language": "python",
   "name": "python3"
  },
  "language_info": {
   "codemirror_mode": {
    "name": "ipython",
    "version": 2
   },
   "file_extension": ".py",
   "mimetype": "text/x-python",
   "name": "python",
   "nbconvert_exporter": "python",
   "pygments_lexer": "ipython2",
   "version": "2.7.6"
  }
 },
 "nbformat": 4,
 "nbformat_minor": 0
}